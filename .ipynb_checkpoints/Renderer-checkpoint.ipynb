{
 "cells": [
  {
   "cell_type": "code",
   "execution_count": 1,
   "id": "descending-lafayette",
   "metadata": {},
   "outputs": [],
   "source": [
    "import os\n",
    "os.environ['TF_CPP_MIN_LOG_LEVEL'] = '3' \n",
    "\n",
    "import tensorflow as tf\n",
    "from tensorflow.keras.models     import Model\n",
    "from tensorflow.keras.layers     import Input, Dense, Dropout, Flatten, Reshape, Conv2D, Conv2DTranspose, LeakyReLU\n",
    "from tensorflow.keras.optimizers import Adam, RMSprop\n",
    "\n",
    "from tqdm import tqdm\n",
    "import numpy as np\n",
    "import matplotlib.pyplot as plt"
   ]
  },
  {
   "cell_type": "code",
   "execution_count": 2,
   "id": "collect-dairy",
   "metadata": {},
   "outputs": [],
   "source": [
    "# ---------- hyperparameters ----------\n",
    "EPOCHS       = 10\n",
    "BATCH_SIZE   = 64\n",
    "LATENT_SPACE = 64\n",
    "\n",
    "tf.random.set_seed(2)"
   ]
  },
  {
   "cell_type": "code",
   "execution_count": 3,
   "id": "ceramic-documentation",
   "metadata": {},
   "outputs": [
    {
     "data": {
      "image/png": "[encoded data removed]",
      "text/plain": [
       "<Figure size 432x288 with 1 Axes>"
      ]
     },
     "metadata": {
      "needs_background": "light"
     },
     "output_type": "display_data"
    }
   ],
   "source": [
    "# ---------- training data ----------\n",
    "screens = np.load('_screens.npy')\n",
    "screens = screens.reshape( (-1, 256, 192, 1) )\n",
    "screens = screens.astype(np.float32)\n",
    "\n",
    "plt.axis('off')\n",
    "plt.imshow(screens[0].reshape(256, 192))\n",
    "plt.show()"
   ]
  },
  {
   "cell_type": "markdown",
   "id": "approved-surgeon",
   "metadata": {},
   "source": [
    "## Create the models"
   ]
  },
  {
   "cell_type": "code",
   "execution_count": 20,
   "id": "bacterial-briefs",
   "metadata": {},
   "outputs": [
    {
     "name": "stdout",
     "output_type": "stream",
     "text": [
      "Model: \"model_10\"\n",
      "_________________________________________________________________\n",
      "Layer (type)                 Output Shape              Param #   \n",
      "=================================================================\n",
      "input_11 (InputLayer)        [(None, 256, 192, 1)]     0         \n",
      "_________________________________________________________________\n",
      "conv2d_14 (Conv2D)           (None, 128, 96, 8)        136       \n",
      "_________________________________________________________________\n",
      "leaky_re_lu_25 (LeakyReLU)   (None, 128, 96, 8)        0         \n",
      "_________________________________________________________________\n",
      "conv2d_15 (Conv2D)           (None, 64, 48, 16)        2064      \n",
      "_________________________________________________________________\n",
      "leaky_re_lu_26 (LeakyReLU)   (None, 64, 48, 16)        0         \n",
      "_________________________________________________________________\n",
      "conv2d_16 (Conv2D)           (None, 32, 24, 16)        4112      \n",
      "_________________________________________________________________\n",
      "leaky_re_lu_27 (LeakyReLU)   (None, 32, 24, 16)        0         \n",
      "_________________________________________________________________\n",
      "conv2d_17 (Conv2D)           (None, 16, 12, 32)        8224      \n",
      "_________________________________________________________________\n",
      "leaky_re_lu_28 (LeakyReLU)   (None, 16, 12, 32)        0         \n",
      "_________________________________________________________________\n",
      "conv2d_18 (Conv2D)           (None, 8, 6, 64)          32832     \n",
      "_________________________________________________________________\n",
      "leaky_re_lu_29 (LeakyReLU)   (None, 8, 6, 64)          0         \n",
      "_________________________________________________________________\n",
      "flatten_4 (Flatten)          (None, 3072)              0         \n",
      "_________________________________________________________________\n",
      "dense_8 (Dense)              (None, 16)                49168     \n",
      "=================================================================\n",
      "Total params: 96,536\n",
      "Trainable params: 96,536\n",
      "Non-trainable params: 0\n",
      "_________________________________________________________________\n",
      "None\n"
     ]
    }
   ],
   "source": [
    "# encoder\n",
    "i = Input( shape=(256, 192, 1) )\n",
    "\n",
    "x = Conv2D( filters=8, kernel_size=4, strides=2, padding='same')(i)\n",
    "x = LeakyReLU()(x)\n",
    "\n",
    "x = Conv2D( filters=16, kernel_size=4 , strides=2, padding='same')(x)\n",
    "x = LeakyReLU()(x)\n",
    "\n",
    "x = Conv2D( filters=16, kernel_size=4 , strides=2, padding='same')(x)\n",
    "x = LeakyReLU()(x)\n",
    "\n",
    "x = Conv2D( filters=32, kernel_size=4 , strides=2, padding='same')(x)\n",
    "x = LeakyReLU()(x)\n",
    "\n",
    "x = Conv2D( filters=64, kernel_size=4 , strides=2, padding='same')(x)\n",
    "x = LeakyReLU()(x)\n",
    "\n",
    "x = Flatten()(x)\n",
    "\n",
    "x = Dense( LATENT_SPACE, activation='sigmoid' )(x)\n",
    "\n",
    "encoder = Model(i, x)\n",
    "print(encoder.summary())"
   ]
  },
  {
   "cell_type": "code",
   "execution_count": 21,
   "id": "structured-marshall",
   "metadata": {},
   "outputs": [
    {
     "name": "stdout",
     "output_type": "stream",
     "text": [
      "Model: \"model_11\"\n",
      "_________________________________________________________________\n",
      "Layer (type)                 Output Shape              Param #   \n",
      "=================================================================\n",
      "input_12 (InputLayer)        [(None, 16)]              0         \n",
      "_________________________________________________________________\n",
      "dense_9 (Dense)              (None, 6144)              104448    \n",
      "_________________________________________________________________\n",
      "leaky_re_lu_30 (LeakyReLU)   (None, 6144)              0         \n",
      "_________________________________________________________________\n",
      "reshape_4 (Reshape)          (None, 16, 12, 32)        0         \n",
      "_________________________________________________________________\n",
      "conv2d_transpose_10 (Conv2DT (None, 32, 24, 32)        16416     \n",
      "_________________________________________________________________\n",
      "leaky_re_lu_31 (LeakyReLU)   (None, 32, 24, 32)        0         \n",
      "_________________________________________________________________\n",
      "conv2d_transpose_11 (Conv2DT (None, 64, 48, 16)        32784     \n",
      "_________________________________________________________________\n",
      "leaky_re_lu_32 (LeakyReLU)   (None, 64, 48, 16)        0         \n",
      "_________________________________________________________________\n",
      "conv2d_transpose_12 (Conv2DT (None, 128, 96, 8)        8200      \n",
      "_________________________________________________________________\n",
      "leaky_re_lu_33 (LeakyReLU)   (None, 128, 96, 8)        0         \n",
      "_________________________________________________________________\n",
      "conv2d_transpose_13 (Conv2DT (None, 256, 192, 1)       8193      \n",
      "=================================================================\n",
      "Total params: 170,041\n",
      "Trainable params: 170,041\n",
      "Non-trainable params: 0\n",
      "_________________________________________________________________\n",
      "None\n"
     ]
    }
   ],
   "source": [
    "# decoder\n",
    "i = Input( shape=(LATENT_SPACE) )\n",
    "\n",
    "x = Dense( 6144 )(i)\n",
    "x = LeakyReLU()(x)\n",
    "\n",
    "x = Reshape( target_shape=(16, 12, 32) )(x)\n",
    "\n",
    "x = Conv2DTranspose( 32, kernel_size=4, strides=2, padding='same' )(x)\n",
    "x = LeakyReLU()(x)\n",
    "\n",
    "x = Conv2DTranspose( 16, kernel_size=8, strides=2, padding='same' )(x)\n",
    "x = LeakyReLU()(x)\n",
    "\n",
    "x = Conv2DTranspose( 8, kernel_size=8, strides=2, padding='same' )(x)\n",
    "x = LeakyReLU()(x)\n",
    "\n",
    "x = Conv2DTranspose( 1 , kernel_size=32, strides=2, padding='same', activation='sigmoid' )(x)\n",
    "\n",
    "decoder = Model(i, x)\n",
    "print(decoder.summary())"
   ]
  },
  {
   "cell_type": "code",
   "execution_count": 22,
   "id": "generous-supervisor",
   "metadata": {
    "scrolled": true
   },
   "outputs": [
    {
     "name": "stdout",
     "output_type": "stream",
     "text": [
      "Model: \"model_12\"\n",
      "_________________________________________________________________\n",
      "Layer (type)                 Output Shape              Param #   \n",
      "=================================================================\n",
      "input_13 (InputLayer)        [(None, 256, 192, 1)]     0         \n",
      "_________________________________________________________________\n",
      "model_10 (Model)             (None, 16)                96536     \n",
      "_________________________________________________________________\n",
      "model_11 (Model)             (None, 256, 192, 1)       170041    \n",
      "=================================================================\n",
      "Total params: 266,577\n",
      "Trainable params: 266,577\n",
      "Non-trainable params: 0\n",
      "_________________________________________________________________\n",
      "None\n"
     ]
    }
   ],
   "source": [
    "i = Input( shape=(256, 192, 1) )\n",
    "x = encoder(i)\n",
    "x = decoder(x)\n",
    "\n",
    "autoencoder = Model(i, x)\n",
    "autoencoder.compile( loss='binary_crossentropy', optimizer=RMSprop(lr=0.0005) )\n",
    "print(autoencoder.summary())"
   ]
  },
  {
   "cell_type": "markdown",
   "id": "precise-disease",
   "metadata": {},
   "source": [
    "## Training"
   ]
  },
  {
   "cell_type": "code",
   "execution_count": null,
   "id": "august-emphasis",
   "metadata": {},
   "outputs": [
    {
     "name": "stdout",
     "output_type": "stream",
     "text": [
      "Train on 9001 samples, validate on 1001 samples\n",
      "Epoch 1/10\n",
      "9001/9001 [==============================] - 34s 4ms/sample - loss: 0.0576 - val_loss: 0.0281\n",
      "Epoch 2/10\n",
      "9001/9001 [==============================] - 14s 2ms/sample - loss: 0.0241 - val_loss: 0.0234\n",
      "Epoch 3/10\n",
      "9001/9001 [==============================] - 14s 2ms/sample - loss: 0.0225 - val_loss: 0.0228\n",
      "Epoch 4/10\n",
      "9001/9001 [==============================] - 14s 2ms/sample - loss: 0.0222 - val_loss: 0.0227\n",
      "Epoch 5/10\n",
      "9001/9001 [==============================] - 14s 2ms/sample - loss: 0.0220 - val_loss: 0.0227\n",
      "Epoch 6/10\n",
      "9001/9001 [==============================] - 14s 2ms/sample - loss: 0.0219 - val_loss: 0.0227\n",
      "Epoch 7/10\n",
      "  64/9001 [..............................] - ETA: 12s - loss: 0.0219"
     ]
    }
   ],
   "source": [
    "# ---------- training loop ----------\n",
    "history = autoencoder.fit( x=screens, y=screens, batch_size=BATCH_SIZE, epochs=EPOCHS, verbose=1, validation_split=0.1 )\n",
    "history = history.history"
   ]
  },
  {
   "cell_type": "markdown",
   "id": "speaking-washington",
   "metadata": {},
   "source": [
    "## Error Visualization"
   ]
  },
  {
   "cell_type": "code",
   "execution_count": 15,
   "id": "negative-december",
   "metadata": {},
   "outputs": [
    {
     "data": {
      "image/png": "[encoded data removed]",
      "text/plain": [
       "<Figure size 432x288 with 1 Axes>"
      ]
     },
     "metadata": {
      "needs_background": "light"
     },
     "output_type": "display_data"
    }
   ],
   "source": [
    "# plot model loss over time\n",
    "plt.plot(history['loss']        , label='loss')\n",
    "plt.plot(history['val_loss']    , label='val_loss')\n",
    "\n",
    "plt.legend(loc=1)\n",
    "plt.show()"
   ]
  },
  {
   "cell_type": "code",
   "execution_count": 17,
   "id": "international-parcel",
   "metadata": {},
   "outputs": [
    {
     "data": {
      "image/png": "[encoded data removed]",
      "text/plain": [
       "<Figure size 5760x576 with 40 Axes>"
      ]
     },
     "metadata": {
      "needs_background": "light"
     },
     "output_type": "display_data"
    }
   ],
   "source": [
    "originals   = np.reshape(screens[:20]                     , (20, 256, 192))\n",
    "predictions = np.reshape(autoencoder.predict(screens[:20]), (20, 256, 192))\n",
    "\n",
    "# combine the predicted and original arrays\n",
    "images = np.concatenate((originals, predictions))\n",
    "\n",
    "# Create a figure from the predicted and real images\n",
    "cols, rows = 20, 2\n",
    "\n",
    "fig=plt.figure(figsize=(80, 8))\n",
    "\n",
    "for i in range(1, cols*rows +1):\n",
    "    fig.add_subplot(rows, cols, i)\n",
    "    plt.axis('off')\n",
    "    plt.imshow(images[i-1])\n",
    "\n",
    "# Save the figure to the images dir\n",
    "plt.show()"
   ]
  },
  {
   "cell_type": "code",
   "execution_count": 18,
   "id": "revised-jason",
   "metadata": {},
   "outputs": [
    {
     "data": {
      "image/png": "[encoded data removed]",
      "text/plain": [
       "<Figure size 1440x72 with 20 Axes>"
      ]
     },
     "metadata": {
      "needs_background": "light"
     },
     "output_type": "display_data"
    }
   ],
   "source": [
    "# differences between reconstructed & original images\n",
    "differences = np.absolute(np.subtract(originals, predictions))\n",
    "\n",
    "# Create a figure from these differences\n",
    "cols, rows = 20, 1\n",
    "\n",
    "fig=plt.figure(figsize=(20, 1))\n",
    "\n",
    "for i in range(1, cols*rows + 1):\n",
    "    fig.add_subplot(rows, cols, i)\n",
    "    plt.axis('off')\n",
    "    plt.imshow(differences[i-1])\n",
    "\n",
    "# Save the figure to the images dir\n",
    "plt.show()"
   ]
  },
  {
   "cell_type": "markdown",
   "id": "nonprofit-pierre",
   "metadata": {},
   "source": [
    "## Save the model locally"
   ]
  },
  {
   "cell_type": "code",
   "execution_count": null,
   "id": "rough-bumper",
   "metadata": {},
   "outputs": [],
   "source": [
    "encoder.save('models\\encoder.h5')\n",
    "decoder.save('models\\decoder.h5')"
   ]
  },
  {
   "cell_type": "code",
   "execution_count": null,
   "id": "classical-basic",
   "metadata": {},
   "outputs": [],
   "source": []
  }
 ],
 "metadata": {
  "kernelspec": {
   "display_name": "Python 3",
   "language": "python",
   "name": "python3"
  },
  "language_info": {
   "codemirror_mode": {
    "name": "ipython",
    "version": 3
   },
   "file_extension": ".py",
   "mimetype": "text/x-python",
   "name": "python",
   "nbconvert_exporter": "python",
   "pygments_lexer": "ipython3",
   "version": "3.7.9"
  }
 },
 "nbformat": 4,
 "nbformat_minor": 5
}
