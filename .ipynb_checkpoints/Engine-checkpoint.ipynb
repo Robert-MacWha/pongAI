{
 "cells": [
  {
   "cell_type": "code",
   "execution_count": 1,
   "id": "canadian-ottawa",
   "metadata": {},
   "outputs": [],
   "source": [
    "import os\n",
    "os.environ['TF_CPP_MIN_LOG_LEVEL'] = '3' \n",
    "\n",
    "import tensorflow as tf\n",
    "from tensorflow.keras.models     import Model\n",
    "from tensorflow.keras.layers     import Input, Dense, Dropout, LeakyReLU, SimpleRNN, GRU, LSTM\n",
    "from tensorflow.keras.optimizers import Adam, RMSprop\n",
    "\n",
    "from tqdm import tqdm\n",
    "import numpy as np\n",
    "import matplotlib.pyplot as plt\n",
    "import cv2"
   ]
  },
  {
   "cell_type": "code",
   "execution_count": 2,
   "id": "fifty-hudson",
   "metadata": {},
   "outputs": [],
   "source": [
    "# ---------- hyperparameters ----------\n",
    "EPOCHS       = 100\n",
    "BATCH_SIZE   = 64\n",
    "ACTION_SPACE = 3\n",
    "LATENT_SPACE = 64\n",
    "\n",
    "tf.random.set_seed(10)"
   ]
  },
  {
   "cell_type": "code",
   "execution_count": 3,
   "id": "wrong-agreement",
   "metadata": {},
   "outputs": [
    {
     "name": "stdout",
     "output_type": "stream",
     "text": [
      "Actions: (20002, 3)\n"
     ]
    },
    {
     "data": {
      "image/png": "[encoded data removed]",
      "text/plain": [
       "<Figure size 432x288 with 1 Axes>"
      ]
     },
     "metadata": {
      "needs_background": "light"
     },
     "output_type": "display_data"
    }
   ],
   "source": [
    "# ---------- training data ----------\n",
    "actions = np.load('_actions-large.npy')\n",
    "one_hots = np.zeros((actions.size, 3))\n",
    "\n",
    "# [1, 0, 0] -> left\n",
    "# [0, 1, 0] -> Still\n",
    "# [0, 0, 1] -> Right\n",
    "for i in range(actions.size):\n",
    "    one_hots[i][actions[i]+1] = 1\n",
    "\n",
    "actions = one_hots\n",
    "print('Actions: ' + str(actions.shape))\n",
    "\n",
    "screens = np.load('_screens-large.npy')\n",
    "screens = screens.reshape( (-1, 256, 192, 1) )\n",
    "screens = screens.astype(np.float32)\n",
    "\n",
    "plt.axis('off')\n",
    "plt.imshow(screens[0].reshape(256, 192))\n",
    "plt.show()"
   ]
  },
  {
   "cell_type": "markdown",
   "id": "turkish-testing",
   "metadata": {},
   "source": [
    "## Create the models"
   ]
  },
  {
   "cell_type": "code",
   "execution_count": 4,
   "id": "enormous-conversation",
   "metadata": {},
   "outputs": [
    {
     "name": "stdout",
     "output_type": "stream",
     "text": [
      "Model: \"model_3\"\n",
      "_________________________________________________________________\n",
      "Layer (type)                 Output Shape              Param #   \n",
      "=================================================================\n",
      "input_1 (InputLayer)         [(None, 131)]             0         \n",
      "_________________________________________________________________\n",
      "dense (Dense)                (None, 256)               33792     \n",
      "_________________________________________________________________\n",
      "leaky_re_lu (LeakyReLU)      (None, 256)               0         \n",
      "_________________________________________________________________\n",
      "dropout (Dropout)            (None, 256)               0         \n",
      "_________________________________________________________________\n",
      "dense_1 (Dense)              (None, 128)               32896     \n",
      "_________________________________________________________________\n",
      "leaky_re_lu_1 (LeakyReLU)    (None, 128)               0         \n",
      "_________________________________________________________________\n",
      "dropout_1 (Dropout)          (None, 128)               0         \n",
      "_________________________________________________________________\n",
      "dense_2 (Dense)              (None, 64)                8256      \n",
      "=================================================================\n",
      "Total params: 74,944\n",
      "Trainable params: 74,944\n",
      "Non-trainable params: 0\n",
      "_________________________________________________________________\n",
      "None\n"
     ]
    }
   ],
   "source": [
    "# engine\n",
    "i = Input( shape=(LATENT_SPACE * 2 + ACTION_SPACE) )\n",
    "\n",
    "x = Dense( 256 )(i)\n",
    "x = LeakyReLU()(x)\n",
    "x = Dropout(0.1)(x)\n",
    "\n",
    "x = Dense( 256 )(x)\n",
    "x = LeakyReLU()(x)\n",
    "x = Dropout(0.1)(x)\n",
    "\n",
    "x = Dense( 128 )(x)\n",
    "x = LeakyReLU()(x)\n",
    "x = Dropout(0.1)(x)\n",
    "\n",
    "x = Dense( 128 )(x)\n",
    "x = LeakyReLU()(x)\n",
    "x = Dropout(0.1)(x)\n",
    "\n",
    "x = Dense( LATENT_SPACE, activation='sigmoid' )(x)\n",
    "\n",
    "engine = Model(i, x, name='model_3')\n",
    "engine.compile( loss='mse', optimizer=RMSprop(lr=0.0001) )\n",
    "print(engine.summary())"
   ]
  },
  {
   "cell_type": "code",
   "execution_count": 4,
   "id": "described-coverage",
   "metadata": {},
   "outputs": [
    {
     "name": "stdout",
     "output_type": "stream",
     "text": [
      "WARNING:tensorflow:No training configuration found in save file: the model was *not* compiled. Compile it manually.\n",
      "Model: \"model\"\n",
      "_________________________________________________________________\n",
      "Layer (type)                 Output Shape              Param #   \n",
      "=================================================================\n",
      "input_1 (InputLayer)         [(None, 256, 192, 1)]     0         \n",
      "_________________________________________________________________\n",
      "conv2d (Conv2D)              (None, 128, 96, 8)        136       \n",
      "_________________________________________________________________\n",
      "leaky_re_lu (LeakyReLU)      (None, 128, 96, 8)        0         \n",
      "_________________________________________________________________\n",
      "conv2d_1 (Conv2D)            (None, 64, 48, 16)        2064      \n",
      "_________________________________________________________________\n",
      "leaky_re_lu_1 (LeakyReLU)    (None, 64, 48, 16)        0         \n",
      "_________________________________________________________________\n",
      "conv2d_2 (Conv2D)            (None, 32, 24, 16)        4112      \n",
      "_________________________________________________________________\n",
      "leaky_re_lu_2 (LeakyReLU)    (None, 32, 24, 16)        0         \n",
      "_________________________________________________________________\n",
      "conv2d_3 (Conv2D)            (None, 16, 12, 32)        8224      \n",
      "_________________________________________________________________\n",
      "leaky_re_lu_3 (LeakyReLU)    (None, 16, 12, 32)        0         \n",
      "_________________________________________________________________\n",
      "conv2d_4 (Conv2D)            (None, 8, 6, 64)          32832     \n",
      "_________________________________________________________________\n",
      "leaky_re_lu_4 (LeakyReLU)    (None, 8, 6, 64)          0         \n",
      "_________________________________________________________________\n",
      "flatten (Flatten)            (None, 3072)              0         \n",
      "_________________________________________________________________\n",
      "dense (Dense)                (None, 64)                196672    \n",
      "=================================================================\n",
      "Total params: 244,040\n",
      "Trainable params: 0\n",
      "Non-trainable params: 244,040\n",
      "_________________________________________________________________\n",
      "None\n"
     ]
    }
   ],
   "source": [
    "# encoder\n",
    "encoder = tf.keras.models.load_model('models/encoder.h5')\n",
    "encoder.trainable = False\n",
    "print(encoder.summary())"
   ]
  },
  {
   "cell_type": "code",
   "execution_count": 5,
   "id": "tracked-casino",
   "metadata": {},
   "outputs": [
    {
     "name": "stdout",
     "output_type": "stream",
     "text": [
      "WARNING:tensorflow:No training configuration found in save file: the model was *not* compiled. Compile it manually.\n",
      "Model: \"model_1\"\n",
      "_________________________________________________________________\n",
      "Layer (type)                 Output Shape              Param #   \n",
      "=================================================================\n",
      "input_2 (InputLayer)         [(None, 64)]              0         \n",
      "_________________________________________________________________\n",
      "dense_1 (Dense)              (None, 6144)              399360    \n",
      "_________________________________________________________________\n",
      "leaky_re_lu_5 (LeakyReLU)    (None, 6144)              0         \n",
      "_________________________________________________________________\n",
      "reshape (Reshape)            (None, 16, 12, 32)        0         \n",
      "_________________________________________________________________\n",
      "conv2d_transpose (Conv2DTran (None, 32, 24, 32)        16416     \n",
      "_________________________________________________________________\n",
      "leaky_re_lu_6 (LeakyReLU)    (None, 32, 24, 32)        0         \n",
      "_________________________________________________________________\n",
      "conv2d_transpose_1 (Conv2DTr (None, 64, 48, 16)        32784     \n",
      "_________________________________________________________________\n",
      "leaky_re_lu_7 (LeakyReLU)    (None, 64, 48, 16)        0         \n",
      "_________________________________________________________________\n",
      "conv2d_transpose_2 (Conv2DTr (None, 128, 96, 8)        8200      \n",
      "_________________________________________________________________\n",
      "leaky_re_lu_8 (LeakyReLU)    (None, 128, 96, 8)        0         \n",
      "_________________________________________________________________\n",
      "conv2d_transpose_3 (Conv2DTr (None, 256, 192, 1)       8193      \n",
      "=================================================================\n",
      "Total params: 464,953\n",
      "Trainable params: 0\n",
      "Non-trainable params: 464,953\n",
      "_________________________________________________________________\n",
      "None\n"
     ]
    }
   ],
   "source": [
    "# renderer\n",
    "renderer = tf.keras.models.load_model('models/decoder.h5')\n",
    "renderer.trainable = False\n",
    "print(renderer.summary())"
   ]
  },
  {
   "cell_type": "code",
   "execution_count": 7,
   "id": "conceptual-sleeve",
   "metadata": {
    "scrolled": true
   },
   "outputs": [
    {
     "name": "stdout",
     "output_type": "stream",
     "text": [
      "Model: \"model\"\n",
      "_________________________________________________________________\n",
      "Layer (type)                 Output Shape              Param #   \n",
      "=================================================================\n",
      "input_2 (InputLayer)         [(None, 131)]             0         \n",
      "_________________________________________________________________\n",
      "model_3 (Model)              (None, 64)                74944     \n",
      "_________________________________________________________________\n",
      "model_1 (Model)              (None, 256, 192, 1)       464953    \n",
      "=================================================================\n",
      "Total params: 539,897\n",
      "Trainable params: 74,944\n",
      "Non-trainable params: 464,953\n",
      "_________________________________________________________________\n",
      "None\n"
     ]
    }
   ],
   "source": [
    "# model\n",
    "i = Input( shape=(LATENT_SPACE * 2 + ACTION_SPACE) )\n",
    "x = engine(i)\n",
    "x = renderer(x)\n",
    "\n",
    "model = Model(i, x)\n",
    "model.compile( loss='binary_crossentropy', optimizer='rmsprop' )\n",
    "\n",
    "print(model.summary())"
   ]
  },
  {
   "cell_type": "markdown",
   "id": "preceding-porcelain",
   "metadata": {},
   "source": [
    "## Format Training Data"
   ]
  },
  {
   "cell_type": "code",
   "execution_count": 6,
   "id": "modular-screening",
   "metadata": {},
   "outputs": [
    {
     "name": "stdout",
     "output_type": "stream",
     "text": [
      "(20000, 131)\n",
      "(20000, 256, 192, 1)\n"
     ]
    }
   ],
   "source": [
    "# encoded the screens\n",
    "encoded_frames = encoder.predict(screens)\n",
    "\n",
    "Xs = []\n",
    "Ys = []\n",
    "for i in range(1, encoded_frames.shape[0] - 1):\n",
    "    Xs.append(encoded_frames[i - 1].tolist() + encoded_frames[i].tolist() + actions[i].tolist())\n",
    "    Ys.append(screens[i + 1])\n",
    "    \n",
    "Xs = np.asarray(Xs)\n",
    "Xs = np.reshape(Xs, (Xs.shape[0], -1))\n",
    "\n",
    "Ys = np.asarray(Ys)\n",
    "\n",
    "print(Xs.shape)\n",
    "print(Ys.shape)"
   ]
  },
  {
   "cell_type": "markdown",
   "id": "mental-knight",
   "metadata": {},
   "source": [
    "## Training"
   ]
  },
  {
   "cell_type": "code",
   "execution_count": 9,
   "id": "egyptian-treasure",
   "metadata": {},
   "outputs": [
    {
     "name": "stdout",
     "output_type": "stream",
     "text": [
      "Train on 19600 samples, validate on 400 samples\n",
      "Epoch 1/30\n",
      "19600/19600 [==============================] - 35s 2ms/sample - loss: 0.0444 - val_loss: 0.0141\n",
      "Epoch 2/30\n",
      "19600/19600 [==============================] - 19s 991us/sample - loss: 0.0124 - val_loss: 0.0100\n",
      "Epoch 3/30\n",
      "19600/19600 [==============================] - 19s 991us/sample - loss: 0.0094 - val_loss: 0.0078\n",
      "Epoch 4/30\n",
      "19600/19600 [==============================] - 19s 990us/sample - loss: 0.0077 - val_loss: 0.0068\n",
      "Epoch 5/30\n",
      "19600/19600 [==============================] - 19s 992us/sample - loss: 0.0067 - val_loss: 0.0056\n",
      "Epoch 6/30\n",
      "19600/19600 [==============================] - 19s 992us/sample - loss: 0.0061 - val_loss: 0.0053\n",
      "Epoch 7/30\n",
      "19600/19600 [==============================] - 20s 996us/sample - loss: 0.0056 - val_loss: 0.0051\n",
      "Epoch 8/30\n",
      "19600/19600 [==============================] - 20s 996us/sample - loss: 0.0053 - val_loss: 0.0056\n",
      "Epoch 9/30\n",
      "19600/19600 [==============================] - 20s 996us/sample - loss: 0.0050 - val_loss: 0.0047\n",
      "Epoch 10/30\n",
      "19600/19600 [==============================] - 20s 999us/sample - loss: 0.0048 - val_loss: 0.0043\n",
      "Epoch 11/30\n",
      "19600/19600 [==============================] - 20s 1ms/sample - loss: 0.0047 - val_loss: 0.0044\n",
      "Epoch 12/30\n",
      "19600/19600 [==============================] - 20s 1ms/sample - loss: 0.0045 - val_loss: 0.0042\n",
      "Epoch 13/30\n",
      "19600/19600 [==============================] - 20s 999us/sample - loss: 0.0044 - val_loss: 0.0037\n",
      "Epoch 14/30\n",
      "19600/19600 [==============================] - 20s 999us/sample - loss: 0.0043 - val_loss: 0.0040\n",
      "Epoch 15/30\n",
      "19600/19600 [==============================] - 20s 998us/sample - loss: 0.0042 - val_loss: 0.0037\n",
      "Epoch 16/30\n",
      "19600/19600 [==============================] - 20s 1ms/sample - loss: 0.0041 - val_loss: 0.0036\n",
      "Epoch 17/30\n",
      "19600/19600 [==============================] - 20s 1ms/sample - loss: 0.0040 - val_loss: 0.0037\n",
      "Epoch 18/30\n",
      "19600/19600 [==============================] - 20s 1ms/sample - loss: 0.0039 - val_loss: 0.0040\n",
      "Epoch 19/30\n",
      "19600/19600 [==============================] - 20s 1ms/sample - loss: 0.0039 - val_loss: 0.0038\n",
      "Epoch 20/30\n",
      "19600/19600 [==============================] - 20s 1ms/sample - loss: 0.0039 - val_loss: 0.0034\n",
      "Epoch 21/30\n",
      "19600/19600 [==============================] - 20s 1ms/sample - loss: 0.0038 - val_loss: 0.0033\n",
      "Epoch 22/30\n",
      "19600/19600 [==============================] - 20s 1ms/sample - loss: 0.0037 - val_loss: 0.0034\n",
      "Epoch 23/30\n",
      "19600/19600 [==============================] - 20s 1ms/sample - loss: 0.0037 - val_loss: 0.0034\n",
      "Epoch 24/30\n",
      "19600/19600 [==============================] - 20s 1ms/sample - loss: 0.0036 - val_loss: 0.0032\n",
      "Epoch 25/30\n",
      "19600/19600 [==============================] - 20s 1ms/sample - loss: 0.0036 - val_loss: 0.0032\n",
      "Epoch 26/30\n",
      "19600/19600 [==============================] - 20s 1ms/sample - loss: 0.0036 - val_loss: 0.0038\n",
      "Epoch 27/30\n",
      "19600/19600 [==============================] - 20s 1ms/sample - loss: 0.0035 - val_loss: 0.0030\n",
      "Epoch 28/30\n",
      "19600/19600 [==============================] - 20s 1ms/sample - loss: 0.0035 - val_loss: 0.0033\n",
      "Epoch 29/30\n",
      "19600/19600 [==============================] - 29s 1ms/sample - loss: 0.0035 - val_loss: 0.0031\n",
      "Epoch 30/30\n",
      "19600/19600 [==============================] - 23s 1ms/sample - loss: 0.0034 - val_loss: 0.0032\n"
     ]
    }
   ],
   "source": [
    "# ---------- training loop ----------\n",
    "history = model.fit( x=Xs, y=Ys, batch_size=BATCH_SIZE, epochs=EPOCHS, verbose=1, validation_split=0.02)\n",
    "history = history.history"
   ]
  },
  {
   "cell_type": "markdown",
   "id": "fitted-general",
   "metadata": {},
   "source": [
    "## Error visualization"
   ]
  },
  {
   "cell_type": "code",
   "execution_count": 10,
   "id": "international-course",
   "metadata": {},
   "outputs": [
    {
     "data": {
      "image/png": "[encoded data removed]",
      "text/plain": [
       "<Figure size 432x288 with 1 Axes>"
      ]
     },
     "metadata": {
      "needs_background": "light"
     },
     "output_type": "display_data"
    }
   ],
   "source": [
    "# plot model loss over time\n",
    "plt.plot(history['loss']        , label='loss')\n",
    "plt.plot(history['val_loss']    , label='val_loss')\n",
    "\n",
    "plt.legend(loc=1)\n",
    "plt.show()"
   ]
  },
  {
   "cell_type": "code",
   "execution_count": 12,
   "id": "mechanical-mechanism",
   "metadata": {},
   "outputs": [
    {
     "data": {
      "image/png": "[encoded data removed]",
      "text/plain": [
       "<Figure size 2880x144 with 80 Axes>"
      ]
     },
     "metadata": {
      "needs_background": "light"
     },
     "output_type": "display_data"
    }
   ],
   "source": [
    "# see how quickly the model diverges\n",
    "samples = Xs[:160]\n",
    "\n",
    "predicted_screens = model.predict(samples)\n",
    "true_screens = screens[2:162]\n",
    "\n",
    "# render the predicted & actual screens\n",
    "images = np.concatenate((true_screens[::4], predicted_screens[::4]))\n",
    "\n",
    "# Create a figure from the predicted and real images\n",
    "cols, rows = 40, 2\n",
    "fig=plt.figure(figsize=(40, 2))\n",
    "\n",
    "for i in range(1, cols*rows +1):\n",
    "    fig.add_subplot(rows, cols, i)\n",
    "    plt.axis('off')\n",
    "    plt.imshow(images[i-1])\n",
    "\n",
    "# Save the figure to the images dir\n",
    "plt.show()"
   ]
  },
  {
   "cell_type": "code",
   "execution_count": 13,
   "id": "classical-swedish",
   "metadata": {},
   "outputs": [
    {
     "name": "stdout",
     "output_type": "stream",
     "text": [
      "(200, 256, 192, 1)\n"
     ]
    }
   ],
   "source": [
    "predictions = encoded_frames[:2]\n",
    "\n",
    "for i in range(1, 199):\n",
    "    \n",
    "    inputs = encoded_frames[i - 1].tolist() + encoded_frames[i].tolist() + [0, 1, 0]\n",
    "    inputs = np.asarray(inputs)\n",
    "    \n",
    "    prediction = engine.predict(np.reshape(inputs, (-1, 131 )))\n",
    "    predictions = np.concatenate((predictions, prediction))\n",
    "\n",
    "predictions = renderer.predict(predictions)\n",
    "print(predictions.shape)"
   ]
  },
  {
   "cell_type": "code",
   "execution_count": 14,
   "id": "compatible-benjamin",
   "metadata": {},
   "outputs": [
    {
     "data": {
      "image/png": "[encoded data removed]",
      "text/plain": [
       "<Figure size 7200x72 with 100 Axes>"
      ]
     },
     "metadata": {
      "needs_background": "light"
     },
     "output_type": "display_data"
    }
   ],
   "source": [
    "cols, rows = 100, 1\n",
    "fig=plt.figure(figsize=(100, 1))\n",
    "\n",
    "for i in range(1, cols*rows +1):\n",
    "    fig.add_subplot(rows, cols, i)\n",
    "    plt.axis('off')\n",
    "    plt.imshow(predictions[i-1])\n",
    "\n",
    "plt.show()"
   ]
  },
  {
   "cell_type": "code",
   "execution_count": 14,
   "id": "about-aircraft",
   "metadata": {},
   "outputs": [],
   "source": [
    "engine.save('models\\engine.h5')"
   ]
  }
 ],
 "metadata": {
  "kernelspec": {
   "display_name": "Python 3",
   "language": "python",
   "name": "python3"
  },
  "language_info": {
   "codemirror_mode": {
    "name": "ipython",
    "version": 3
   },
   "file_extension": ".py",
   "mimetype": "text/x-python",
   "name": "python",
   "nbconvert_exporter": "python",
   "pygments_lexer": "ipython3",
   "version": "3.7.9"
  }
 },
 "nbformat": 4,
 "nbformat_minor": 5
}
